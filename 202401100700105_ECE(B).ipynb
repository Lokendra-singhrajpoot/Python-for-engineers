{
  "nbformat": 4,
  "nbformat_minor": 0,
  "metadata": {
    "colab": {
      "provenance": [],
      "authorship_tag": "ABX9TyNPUbf3v/vtATzyAA4pHyXv",
      "include_colab_link": true
    },
    "kernelspec": {
      "name": "python3",
      "display_name": "Python 3"
    },
    "language_info": {
      "name": "python"
    }
  },
  "cells": [
    {
      "cell_type": "markdown",
      "metadata": {
        "id": "view-in-github",
        "colab_type": "text"
      },
      "source": [
        "<a href=\"https://colab.research.google.com/github/Lokendra-singhrajpoot/Python-for-engineers/blob/main/202401100700105_ECE(B).ipynb\" target=\"_parent\"><img src=\"https://colab.research.google.com/assets/colab-badge.svg\" alt=\"Open In Colab\"/></a>"
      ]
    },
    {
      "cell_type": "code",
      "execution_count": null,
      "metadata": {
        "id": "ZtfZacXiAKMN"
      },
      "outputs": [],
      "source": [
        "# prompt: LED BRIGHTNESS CONTROL code in matplotlib for glowing the light in each display by user input\n",
        "\n",
        "import matplotlib.pyplot as plt\n",
        "import numpy as np\n",
        "\n",
        "def led_brightness_control():\n",
        "    \"\"\"Controls LED brightness based on user input using Matplotlib.\"\"\"\n",
        "\n",
        "    try:\n",
        "        brightness_level = int(input(\"Enter the desired brightness level (0-100): \"))\n",
        "        if not 0 <= brightness_level <= 100:\n",
        "            raise ValueError(\"Brightness level must be between 0 and 100.\")\n",
        "\n",
        "        # Create a simple LED representation\n",
        "        led_color = (1, brightness_level / 100, 0)  # Example: Green LED, brightness adjusted\n",
        "        led_radius = 0.5\n",
        "        circle = plt.Circle((0.5, 0.5), led_radius, color=led_color)\n",
        "\n",
        "        fig, ax = plt.subplots()  # Create a figure and axes\n",
        "        ax.add_patch(circle)\n",
        "        ax.set_aspect('equal')  # Ensure the circle is circular\n",
        "        ax.set_xlim(0, 1)\n",
        "        ax.set_ylim(0, 1)\n",
        "\n",
        "        plt.title(\"LED Brightness Control\")\n",
        "\n",
        "        plt.show()\n",
        "    except ValueError as e:\n",
        "        print(f\"Error: {e}\")\n",
        "    except Exception as e:\n",
        "        print(f\"An unexpected error occurred: {e}\")\n",
        "\n",
        "if _name_ == \"_main_\":\n",
        "    led_brightness_control()"
      ]
    }
  ]
}